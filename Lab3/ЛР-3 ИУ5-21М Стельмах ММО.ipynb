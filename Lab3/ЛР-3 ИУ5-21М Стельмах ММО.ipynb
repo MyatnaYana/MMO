{
 "cells": [
  {
   "cell_type": "markdown",
   "metadata": {},
   "source": [
    "## Лабораторная работа 3\n",
    "ИУ5-21М Стельмах Яна\n",
    "## Цель работы \n",
    "Изучение продвинутых способов предварительной обработки данных для дальнейшего формирования моделей.\n",
    "\n",
    "## Задание\n",
    "Выбрать один или несколько наборов данных (датасетов) для решения следующих задач. Каждая задача может быть решена на отдельном датасете, или несколько задач могут быть решены на одном датасете. Просьба не использовать датасет, на котором данная задача решалась в лекции.\n",
    "\n",
    "Для выбранного датасета (датасетов) на основе материалов лекций решить следующие задачи:\n",
    "\n",
    "масштабирование признаков (не менее чем тремя способами);\n",
    "\n",
    "обработку выбросов для числовых признаков (по одному способу для удаления выбросов и для замены выбросов);\n",
    "\n",
    "обработку по крайней мере одного нестандартного признака (который не является числовым или категориальным);\n",
    "\n",
    "отбор признаков:\n",
    "\n",
    "один метод из группы методов фильтрации (filter methods);\n",
    "\n",
    "один метод из группы методов обертывания (wrapper methods);\n",
    "\n",
    "один метод из группы методов вложений (embedded methods).\n",
    "\n",
    "## Ход работы"
   ]
  },
  {
   "cell_type": "code",
   "execution_count": 1,
   "metadata": {},
   "outputs": [],
   "source": [
    "from sklearn.preprocessing import StandardScaler, MinMaxScaler, RobustScaler\n",
    "import pandas as pd\n",
    "\n",
    "\n",
    "file_path = '/Users/Iana/Desktop/2М/MMO/data/wine+quality/winequality-red.csv'\n",
    "\n",
    "# Загрузка данных\n",
    "wine = pd.read_csv(file_path, sep=';')  # Указываем разделитель ';'"
   ]
  },
  {
   "cell_type": "markdown",
   "metadata": {},
   "source": [
    "Масштабирование признаков (3 способа)"
   ]
  },
  {
   "cell_type": "code",
   "execution_count": null,
   "metadata": {},
   "outputs": [
    {
     "name": "stdout",
     "output_type": "stream",
     "text": [
      "Стандартизация:\n",
      "    alcohol  residual sugar\n",
      "0 -0.960246       -0.453218\n",
      "1 -0.584777        0.043416\n",
      "2 -0.584777       -0.169427\n",
      "3 -0.584777       -0.453218\n",
      "4 -0.960246       -0.453218\n",
      "\n",
      "Min-Max Scaling:\n",
      "    alcohol  residual sugar\n",
      "0  0.153846        0.068493\n",
      "1  0.215385        0.116438\n",
      "2  0.215385        0.095890\n",
      "3  0.215385        0.068493\n",
      "4  0.153846        0.068493\n",
      "\n",
      "Robust Scaling:\n",
      "   alcohol  residual sugar\n",
      "0    -0.50       -0.428571\n",
      "1    -0.25        0.571429\n",
      "2    -0.25        0.142857\n",
      "3    -0.25       -0.428571\n",
      "4    -0.50       -0.428571\n"
     ]
    }
   ],
   "source": [
    "# 1. Стандартизация (Z-score)\n",
    "scaler = StandardScaler()\n",
    "data_scaled1 = wine.copy()  # Создаем копию DataFrame\n",
    "data_scaled1[['alcohol', 'residual sugar']] = scaler.fit_transform(wine[['alcohol', 'residual sugar']])\n",
    "\n",
    "# 2. Min-Max Scaling\n",
    "scaler = MinMaxScaler()\n",
    "data_scaled2 = wine.copy()\n",
    "data_scaled2[['alcohol', 'residual sugar']] = scaler.fit_transform(wine[['alcohol', 'residual sugar']])\n",
    "\n",
    "# 3. Robust Scaling (устойчивый к выбросам)\n",
    "scaler = RobustScaler()\n",
    "data_scaled3 = wine.copy()\n",
    "data_scaled3[['alcohol', 'residual sugar']] = scaler.fit_transform(wine[['alcohol', 'residual sugar']])\n",
    "\n",
    "# Проверка результатов\n",
    "print(\"Стандартизация:\")\n",
    "print(data_scaled1[['alcohol', 'residual sugar']].head())\n",
    "print(\"\\nMin-Max Scaling:\")\n",
    "print(data_scaled2[['alcohol', 'residual sugar']].head())\n",
    "print(\"\\nRobust Scaling:\")\n",
    "print(data_scaled3[['alcohol', 'residual sugar']].head())"
   ]
  },
  {
   "cell_type": "markdown",
   "metadata": {},
   "source": [
    "Обработка выбросов методом Тьюки"
   ]
  },
  {
   "cell_type": "code",
   "execution_count": null,
   "metadata": {},
   "outputs": [],
   "source": [
    "import chardet\n",
    "\n",
    "file_path = '/Users/Iana/Desktop/2М/MMO/data/Superstore.csv'\n",
    "\n",
    "# Загружаем с правильной кодировкой\n",
    "store = pd.read_csv(file_path, encoding='ISO-8859-1', delimiter=',')"
   ]
  },
  {
   "cell_type": "code",
   "execution_count": null,
   "metadata": {},
   "outputs": [],
   "source": [
    "# Удаление выбросов (метод Тьюки)\n",
    "def remove_outliers(df, col):\n",
    "    Q1 = df[col].quantile(0.25)\n",
    "    Q3 = df[col].quantile(0.75)\n",
    "    IQR = Q3 - Q1\n",
    "    return df[(df[col] >= Q1 - 1.5*IQR) & (df[col] <= Q3 + 1.5*IQR)]\n",
    "\n",
    "store_clean = remove_outliers(store, 'Sales')\n",
    "\n",
    "# Замена выбросов (Winsorization)\n",
    "from scipy.stats.mstats import winsorize\n",
    "store['Sales_winsorized'] = winsorize(store['Sales'], limits=[0.05, 0.05])"
   ]
  },
  {
   "cell_type": "markdown",
   "metadata": {},
   "source": [
    "Обработка нестандартного признака"
   ]
  },
  {
   "cell_type": "code",
   "execution_count": null,
   "metadata": {},
   "outputs": [],
   "source": [
    "file_path = '/Users/Iana/Desktop/2М/MMO/data/movies.csv'\n",
    "\n",
    "# Загрузка данных\n",
    "movies = pd.read_csv(file_path) "
   ]
  },
  {
   "cell_type": "code",
   "execution_count": 15,
   "metadata": {},
   "outputs": [],
   "source": [
    "# Обработка JSON-поля 'genres'\n",
    "movies['genres'] = movies['genres'].apply(lambda x: [i['name'] for i in eval(x)])\n",
    "movies['main_genre'] = movies['genres'].apply(lambda x: x[0] if x else None)"
   ]
  },
  {
   "cell_type": "markdown",
   "metadata": {},
   "source": [
    "Отбор признаков"
   ]
  },
  {
   "cell_type": "code",
   "execution_count": 19,
   "metadata": {},
   "outputs": [],
   "source": [
    "import pandas as pd\n",
    "from sklearn.feature_selection import (SelectKBest, f_classif, \n",
    "                                     RFE, SelectFromModel)\n",
    "from sklearn.ensemble import RandomForestClassifier\n",
    "from sklearn.svm import SVC\n",
    "\n",
    "file_path = '/Users/Iana/Desktop/2М/MMO/data/cancer.csv'\n",
    "\n",
    "# Загрузка данных\n",
    "cancer = pd.read_csv(file_path) "
   ]
  },
  {
   "cell_type": "code",
   "execution_count": 20,
   "metadata": {},
   "outputs": [
    {
     "name": "stdout",
     "output_type": "stream",
     "text": [
      "Выбранные признаки (ANOVA): Index(['perimeter_mean', 'concave points_mean', 'radius_worst',\n",
      "       'perimeter_worst', 'concave points_worst'],\n",
      "      dtype='object')\n",
      "Выбранные признаки (RFE): Index(['concavity_worst', 'concave points_worst', 'symmetry_worst'], dtype='object')\n",
      "Выбранные признаки (Random Forest): Index(['radius_mean', 'texture_mean', 'perimeter_mean', 'area_mean',\n",
      "       'concavity_mean', 'concave points_mean', 'radius_se', 'area_se',\n",
      "       'radius_worst', 'texture_worst', 'perimeter_worst', 'area_worst',\n",
      "       'compactness_worst', 'concavity_worst', 'concave points_worst'],\n",
      "      dtype='object')\n"
     ]
    }
   ],
   "source": [
    "# Подготовка данных\n",
    "# Предполагаем, что целевая переменная называется 'target' или 'diagnosis'\n",
    "# и остальные колонки - это признаки\n",
    "X = cancer.drop(['id', 'diagnosis', 'Unnamed: 32'], axis=1, errors='ignore')  # Удаляем ненужные колонки\n",
    "y = cancer['diagnosis']  # Или cancer['target'], в зависимости от датасета\n",
    "\n",
    "# Кодируем целевую переменную, если она строковая\n",
    "from sklearn.preprocessing import LabelEncoder\n",
    "le = LabelEncoder()\n",
    "y = le.fit_transform(y)\n",
    "\n",
    "# 1. Filter Method: ANOVA F-value\n",
    "selector = SelectKBest(f_classif, k=5)\n",
    "X_new = selector.fit_transform(X, y)\n",
    "print(\"Выбранные признаки (ANOVA):\", X.columns[selector.get_support()])\n",
    "\n",
    "# 2. Wrapper Method: Recursive Feature Elimination\n",
    "estimator = SVC(kernel=\"linear\")\n",
    "selector_rfe = RFE(estimator, n_features_to_select=3, step=1)\n",
    "X_rfe = selector_rfe.fit_transform(X, y)\n",
    "print(\"Выбранные признаки (RFE):\", X.columns[selector_rfe.get_support()])\n",
    "\n",
    "# 3. Embedded Method: Feature Importance from Random Forest\n",
    "model = RandomForestClassifier(n_estimators=100, random_state=42)\n",
    "model.fit(X, y)\n",
    "selector_emb = SelectFromModel(model, threshold='median')\n",
    "X_emb = selector_emb.fit_transform(X, y)\n",
    "print(\"Выбранные признаки (Random Forest):\", X.columns[selector_emb.get_support()])"
   ]
  }
 ],
 "metadata": {
  "kernelspec": {
   "display_name": ".venv (3.11.12)",
   "language": "python",
   "name": "python3"
  },
  "language_info": {
   "codemirror_mode": {
    "name": "ipython",
    "version": 3
   },
   "file_extension": ".py",
   "mimetype": "text/x-python",
   "name": "python",
   "nbconvert_exporter": "python",
   "pygments_lexer": "ipython3",
   "version": "3.11.12"
  }
 },
 "nbformat": 4,
 "nbformat_minor": 2
}
