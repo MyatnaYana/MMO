{
 "cells": [
  {
   "cell_type": "markdown",
   "id": "c15b1bab",
   "metadata": {},
   "source": [
    "# Рубежный контроль 2."
   ]
  },
  {
   "cell_type": "markdown",
   "id": "477aaf5c",
   "metadata": {},
   "source": [
    "## датасет https://www.kaggle.com/datasets/pashupatigupta/emotion-detection-from-text"
   ]
  },
  {
   "cell_type": "markdown",
   "id": "4b380391",
   "metadata": {},
   "source": [
    "Необходимо решить задачу классификации текстов на основе любого выбранного Вами датасета (кроме примера, который рассматривался в лекции). Классификация может быть бинарной или многоклассовой. Целевой признак из выбранного Вами датасета может иметь любой физический смысл, примером является задача анализа тональности текста.\n",
    "\n",
    "Необходимо сформировать два варианта векторизации признаков - на основе CountVectorizer и на основе TfidfVectorizer.\n",
    "\n",
    "В качестве классификаторов необходимо использовать два классификатора по варианту для Вашей группы:"
   ]
  },
  {
   "cell_type": "markdown",
   "id": "a654cbe0",
   "metadata": {},
   "source": [
    "Группа ИУ5-21М"
   ]
  },
  {
   "cell_type": "markdown",
   "id": "c6e06ea6",
   "metadata": {},
   "source": [
    "\tKNeighborsClassifier  \n",
    "    LogisticRegression\n",
    "    "
   ]
  },
  {
   "cell_type": "markdown",
   "id": "754e8dfe",
   "metadata": {},
   "source": [
    "Для каждого метода необходимо оценить качество классификации. Сделайте вывод о том, какой вариант векторизации признаков в паре с каким классификатором показал лучшее качество."
   ]
  },
  {
   "cell_type": "code",
   "execution_count": 1,
   "id": "687e52dc",
   "metadata": {},
   "outputs": [],
   "source": [
    "import numpy as np\n",
    "import pandas as pd\n",
    "from typing import Dict, Tuple\n",
    "from scipy import stats\n",
    "from IPython.display import Image\n",
    "from sklearn.feature_extraction.text import CountVectorizer, TfidfVectorizer\n",
    "from sklearn.model_selection import train_test_split\n",
    "from sklearn.neighbors import KNeighborsRegressor, KNeighborsClassifier\n",
    "from sklearn.linear_model import LogisticRegression\n",
    "from sklearn.model_selection import GridSearchCV, RandomizedSearchCV\n",
    "from sklearn.metrics import accuracy_score, balanced_accuracy_score\n",
    "from sklearn.metrics import precision_score, recall_score, f1_score, classification_report\n",
    "from sklearn.metrics import confusion_matrix\n",
    "from sklearn.model_selection import cross_val_score\n",
    "from sklearn.pipeline import Pipeline\n",
    "from sklearn.metrics import mean_absolute_error, mean_squared_error, mean_squared_log_error, median_absolute_error, r2_score \n",
    "from sklearn.metrics import roc_curve, roc_auc_score\n",
    "from sklearn.svm import SVC, NuSVC, LinearSVC, OneClassSVM, SVR, NuSVR, LinearSVR\n",
    "import seaborn as sns\n",
    "import matplotlib.pyplot as plt\n",
    "%matplotlib inline \n",
    "sns.set(style=\"ticks\")"
   ]
  },
  {
   "cell_type": "code",
   "execution_count": 2,
   "id": "112a6aaa",
   "metadata": {},
   "outputs": [],
   "source": [
    "# Функция для вычисления accuracy по классам (из примера)\n",
    "def accuracy_score_for_classes(y_true: np.ndarray, y_pred: np.ndarray) -> dict:\n",
    "    d = {'t': y_true, 'p': y_pred}\n",
    "    df = pd.DataFrame(data=d)\n",
    "    classes = np.unique(y_true)\n",
    "    res = {}\n",
    "    for c in classes:\n",
    "        temp_data_flt = df[df['t'] == c]\n",
    "        temp_acc = accuracy_score(temp_data_flt['t'].values, temp_data_flt['p'].values)\n",
    "        res[c] = temp_acc\n",
    "    return res\n",
    "\n",
    "def print_accuracy_score_for_classes(y_true: np.ndarray, y_pred: np.ndarray):\n",
    "    accs = accuracy_score_for_classes(y_true, y_pred)\n",
    "    if len(accs) > 0:\n",
    "        print('Метка \\t Accuracy')\n",
    "    for i in accs:\n",
    "        print('{} \\t {}'.format(i, accs[i]))"
   ]
  },
  {
   "cell_type": "code",
   "execution_count": 3,
   "id": "335f601a",
   "metadata": {},
   "outputs": [],
   "source": [
    "data = pd.read_csv('/Users/Iana/Desktop/2М/MMO/data/tweet_emotions.csv', encoding = \"utf-8\")"
   ]
  },
  {
   "cell_type": "code",
   "execution_count": 4,
   "id": "df23686b",
   "metadata": {
    "scrolled": true
   },
   "outputs": [
    {
     "data": {
      "text/html": [
       "<div>\n",
       "<style scoped>\n",
       "    .dataframe tbody tr th:only-of-type {\n",
       "        vertical-align: middle;\n",
       "    }\n",
       "\n",
       "    .dataframe tbody tr th {\n",
       "        vertical-align: top;\n",
       "    }\n",
       "\n",
       "    .dataframe thead th {\n",
       "        text-align: right;\n",
       "    }\n",
       "</style>\n",
       "<table border=\"1\" class=\"dataframe\">\n",
       "  <thead>\n",
       "    <tr style=\"text-align: right;\">\n",
       "      <th></th>\n",
       "      <th>tweet_id</th>\n",
       "      <th>sentiment</th>\n",
       "      <th>content</th>\n",
       "    </tr>\n",
       "  </thead>\n",
       "  <tbody>\n",
       "    <tr>\n",
       "      <th>0</th>\n",
       "      <td>1956967341</td>\n",
       "      <td>empty</td>\n",
       "      <td>@tiffanylue i know  i was listenin to bad habi...</td>\n",
       "    </tr>\n",
       "    <tr>\n",
       "      <th>1</th>\n",
       "      <td>1956967666</td>\n",
       "      <td>sadness</td>\n",
       "      <td>Layin n bed with a headache  ughhhh...waitin o...</td>\n",
       "    </tr>\n",
       "    <tr>\n",
       "      <th>2</th>\n",
       "      <td>1956967696</td>\n",
       "      <td>sadness</td>\n",
       "      <td>Funeral ceremony...gloomy friday...</td>\n",
       "    </tr>\n",
       "    <tr>\n",
       "      <th>3</th>\n",
       "      <td>1956967789</td>\n",
       "      <td>enthusiasm</td>\n",
       "      <td>wants to hang out with friends SOON!</td>\n",
       "    </tr>\n",
       "    <tr>\n",
       "      <th>4</th>\n",
       "      <td>1956968416</td>\n",
       "      <td>neutral</td>\n",
       "      <td>@dannycastillo We want to trade with someone w...</td>\n",
       "    </tr>\n",
       "  </tbody>\n",
       "</table>\n",
       "</div>"
      ],
      "text/plain": [
       "     tweet_id   sentiment                                            content\n",
       "0  1956967341       empty  @tiffanylue i know  i was listenin to bad habi...\n",
       "1  1956967666     sadness  Layin n bed with a headache  ughhhh...waitin o...\n",
       "2  1956967696     sadness                Funeral ceremony...gloomy friday...\n",
       "3  1956967789  enthusiasm               wants to hang out with friends SOON!\n",
       "4  1956968416     neutral  @dannycastillo We want to trade with someone w..."
      ]
     },
     "execution_count": 4,
     "metadata": {},
     "output_type": "execute_result"
    }
   ],
   "source": [
    "data.head()"
   ]
  },
  {
   "cell_type": "code",
   "execution_count": 5,
   "id": "edde7459",
   "metadata": {},
   "outputs": [
    {
     "data": {
      "text/plain": [
       "(40000, 3)"
      ]
     },
     "execution_count": 5,
     "metadata": {},
     "output_type": "execute_result"
    }
   ],
   "source": [
    "data.shape"
   ]
  },
  {
   "cell_type": "markdown",
   "id": "6fd1d89a",
   "metadata": {},
   "source": [
    "Пропуски в данных:"
   ]
  },
  {
   "cell_type": "code",
   "execution_count": 6,
   "id": "23657b73",
   "metadata": {},
   "outputs": [
    {
     "name": "stdout",
     "output_type": "stream",
     "text": [
      "tweet_id     0\n",
      "sentiment    0\n",
      "content      0\n",
      "dtype: int64\n"
     ]
    }
   ],
   "source": [
    "print(data.isnull().sum())"
   ]
  },
  {
   "cell_type": "markdown",
   "id": "2d532d89",
   "metadata": {},
   "source": [
    "Удаление строк с пропусками"
   ]
  },
  {
   "cell_type": "code",
   "execution_count": 7,
   "id": "c11f46a6",
   "metadata": {},
   "outputs": [],
   "source": [
    "data = data.dropna(subset=['content', 'sentiment'])"
   ]
  },
  {
   "cell_type": "markdown",
   "id": "52728d46",
   "metadata": {},
   "source": [
    "Оставляем только нужные столбцы"
   ]
  },
  {
   "cell_type": "code",
   "execution_count": 8,
   "id": "db50a677",
   "metadata": {},
   "outputs": [],
   "source": [
    "data = data[['content', 'sentiment']].reset_index(drop=True)"
   ]
  },
  {
   "cell_type": "markdown",
   "id": "93887f99",
   "metadata": {},
   "source": [
    "Переименуем столбцы для удобства"
   ]
  },
  {
   "cell_type": "code",
   "execution_count": 9,
   "id": "87a60991",
   "metadata": {},
   "outputs": [],
   "source": [
    "data.columns = ['text', 'label']"
   ]
  },
  {
   "cell_type": "markdown",
   "id": "b9efff3e",
   "metadata": {},
   "source": [
    "Создание словаря"
   ]
  },
  {
   "cell_type": "code",
   "execution_count": 11,
   "id": "af6d6207",
   "metadata": {},
   "outputs": [
    {
     "data": {
      "text/plain": [
       "['Layin n bed with a headache  ughhhh...waitin on your call...',\n",
       " 'Funeral ceremony...gloomy friday...',\n",
       " 'wants to hang out with friends SOON!',\n",
       " '@dannycastillo We want to trade with someone who has Houston tickets, but no one will.',\n",
       " \"Re-pinging @ghostridah14: why didn't you go to prom? BC my bf didn't like my friends\",\n",
       " \"I should be sleep, but im not! thinking about an old friend who I want. but he's married now. damn, &amp; he wants me 2! scandalous!\",\n",
       " 'Hmmm. http://www.djhero.com/ is down',\n",
       " '@charviray Charlene my love. I miss you',\n",
       " \"@kelcouch I'm sorry  at least it's Friday?\"]"
      ]
     },
     "execution_count": 11,
     "metadata": {},
     "output_type": "execute_result"
    }
   ],
   "source": [
    "# Сформируем общий словарь для обучения моделей из обучающей и тестовой выборки\n",
    "vocab_list = data['text'].tolist()\n",
    "vocab_list[1:10]"
   ]
  },
  {
   "cell_type": "code",
   "execution_count": 12,
   "id": "d10ad79e",
   "metadata": {},
   "outputs": [],
   "source": [
    "vocabVect = CountVectorizer()\n",
    "vocabVect.fit(vocab_list)\n",
    "corpusVocab = vocabVect.vocabulary_"
   ]
  },
  {
   "cell_type": "code",
   "execution_count": 14,
   "id": "060633d7",
   "metadata": {},
   "outputs": [
    {
     "name": "stdout",
     "output_type": "stream",
     "text": [
      "\n",
      "Размер словаря: 48212\n"
     ]
    }
   ],
   "source": [
    "print(f\"\\nРазмер словаря: {len(corpusVocab)}\")"
   ]
  },
  {
   "cell_type": "code",
   "execution_count": 15,
   "id": "de8c910d",
   "metadata": {},
   "outputs": [
    {
     "name": "stdout",
     "output_type": "stream",
     "text": [
      "know=24017\n",
      "was=45848\n",
      "listenin=25463\n",
      "to=43187\n",
      "bad=4919\n",
      "habit=18430\n",
      "earlier=13732\n",
      "and=3374\n",
      "started=40270\n"
     ]
    }
   ],
   "source": [
    "for i in list(corpusVocab)[1:10]:\n",
    "    print('{}={}'.format(i, corpusVocab[i]))"
   ]
  },
  {
   "cell_type": "code",
   "execution_count": 16,
   "id": "67c54932",
   "metadata": {},
   "outputs": [],
   "source": [
    "test_features = vocabVect.transform(vocab_list)"
   ]
  },
  {
   "cell_type": "code",
   "execution_count": 19,
   "id": "79c57c6e",
   "metadata": {},
   "outputs": [],
   "source": [
    "# Функция для векторизации и классификации\n",
    "def VectorizeAndClassify(vectorizers_list, classifiers_list):\n",
    "    for v in vectorizers_list:\n",
    "        for c in classifiers_list:\n",
    "            pipeline = Pipeline([(\"vectorizer\", v), (\"classifier\", c)])\n",
    "            score = cross_val_score(pipeline, data['text'], data['label'], \n",
    "                                   scoring='accuracy', cv=3).mean()\n",
    "            print(f\"Векторизация: {v}\")\n",
    "            print(f\"Классификатор: {c}\")\n",
    "            print(f\"Accuracy: {score:.4f}\")\n",
    "            print(\"===========================\")"
   ]
  },
  {
   "cell_type": "code",
   "execution_count": 18,
   "id": "bf43ba01",
   "metadata": {},
   "outputs": [],
   "source": [
    "# Определение векторизаторов и классификаторов\n",
    "vectorizers_list = [CountVectorizer(vocabulary=corpusVocab), \n",
    "                    TfidfVectorizer(vocabulary=corpusVocab)]\n",
    "classifiers_list = [KNeighborsClassifier(), LogisticRegression(C=3.0, max_iter=1000)]"
   ]
  },
  {
   "cell_type": "markdown",
   "id": "4a3323d4",
   "metadata": {},
   "source": [
    "Выполнение оценки"
   ]
  },
  {
   "cell_type": "code",
   "execution_count": 20,
   "id": "a4731bc0",
   "metadata": {},
   "outputs": [
    {
     "name": "stdout",
     "output_type": "stream",
     "text": [
      "Векторизация: CountVectorizer(vocabulary={'00': 0, '000': 1, '000th': 2, '006': 3, '00am': 4,\n",
      "                            '00pm': 5, '01': 6, '01theone': 7, '02': 8,\n",
      "                            '023': 9, '024': 10, '0255': 11, '02mxjj': 12,\n",
      "                            '03': 13, '04': 14, '04182012154': 15, '05': 16,\n",
      "                            '053agj': 17, '05ixbj': 18, '06': 19, '060': 20,\n",
      "                            '0600': 21, '06am': 22, '07': 23, '0783l': 24,\n",
      "                            '07am': 25, '07jzs': 26, '07k6e': 27, '07k6x': 28,\n",
      "                            '07kbp': 29, ...})\n",
      "Классификатор: KNeighborsClassifier()\n",
      "Accuracy: 0.2398\n",
      "===========================\n",
      "Векторизация: CountVectorizer(vocabulary={'00': 0, '000': 1, '000th': 2, '006': 3, '00am': 4,\n",
      "                            '00pm': 5, '01': 6, '01theone': 7, '02': 8,\n",
      "                            '023': 9, '024': 10, '0255': 11, '02mxjj': 12,\n",
      "                            '03': 13, '04': 14, '04182012154': 15, '05': 16,\n",
      "                            '053agj': 17, '05ixbj': 18, '06': 19, '060': 20,\n",
      "                            '0600': 21, '06am': 22, '07': 23, '0783l': 24,\n",
      "                            '07am': 25, '07jzs': 26, '07k6e': 27, '07k6x': 28,\n",
      "                            '07kbp': 29, ...})\n",
      "Классификатор: LogisticRegression(C=3.0, max_iter=1000)\n",
      "Accuracy: 0.3077\n",
      "===========================\n",
      "Векторизация: TfidfVectorizer(vocabulary={'00': 0, '000': 1, '000th': 2, '006': 3, '00am': 4,\n",
      "                            '00pm': 5, '01': 6, '01theone': 7, '02': 8,\n",
      "                            '023': 9, '024': 10, '0255': 11, '02mxjj': 12,\n",
      "                            '03': 13, '04': 14, '04182012154': 15, '05': 16,\n",
      "                            '053agj': 17, '05ixbj': 18, '06': 19, '060': 20,\n",
      "                            '0600': 21, '06am': 22, '07': 23, '0783l': 24,\n",
      "                            '07am': 25, '07jzs': 26, '07k6e': 27, '07k6x': 28,\n",
      "                            '07kbp': 29, ...})\n",
      "Классификатор: KNeighborsClassifier()\n",
      "Accuracy: 0.2177\n",
      "===========================\n",
      "Векторизация: TfidfVectorizer(vocabulary={'00': 0, '000': 1, '000th': 2, '006': 3, '00am': 4,\n",
      "                            '00pm': 5, '01': 6, '01theone': 7, '02': 8,\n",
      "                            '023': 9, '024': 10, '0255': 11, '02mxjj': 12,\n",
      "                            '03': 13, '04': 14, '04182012154': 15, '05': 16,\n",
      "                            '053agj': 17, '05ixbj': 18, '06': 19, '060': 20,\n",
      "                            '0600': 21, '06am': 22, '07': 23, '0783l': 24,\n",
      "                            '07am': 25, '07jzs': 26, '07k6e': 27, '07k6x': 28,\n",
      "                            '07kbp': 29, ...})\n",
      "Классификатор: LogisticRegression(C=3.0, max_iter=1000)\n",
      "Accuracy: 0.3290\n",
      "===========================\n"
     ]
    }
   ],
   "source": [
    "VectorizeAndClassify(vectorizers_list, classifiers_list)"
   ]
  },
  {
   "cell_type": "code",
   "execution_count": 21,
   "id": "1573d7cb",
   "metadata": {},
   "outputs": [],
   "source": [
    "# Дополнительная оценка для лучшей модели (LogisticRegression с TfidfVectorizer)\n",
    "X_train, X_test, y_train, y_test = train_test_split(data['text'], data['label'], \n",
    "                                                    test_size=0.2, random_state=42)\n",
    "pipeline_best = Pipeline([(\"vectorizer\", TfidfVectorizer(vocabulary=corpusVocab)), \n",
    "                         (\"classifier\", LogisticRegression(C=3.0, max_iter=1000))])\n",
    "pipeline_best.fit(X_train, y_train)\n",
    "y_pred = pipeline_best.predict(X_test)"
   ]
  },
  {
   "cell_type": "code",
   "execution_count": 22,
   "id": "ad6eb9fe",
   "metadata": {},
   "outputs": [
    {
     "name": "stdout",
     "output_type": "stream",
     "text": [
      "\n",
      "Отчет по лучшей модели (LogisticRegression с TfidfVectorizer):\n",
      "              precision    recall  f1-score   support\n",
      "\n",
      "       anger       0.00      0.00      0.00        19\n",
      "     boredom       0.00      0.00      0.00        31\n",
      "       empty       0.14      0.01      0.01       162\n",
      "  enthusiasm       0.00      0.00      0.00       163\n",
      "         fun       0.09      0.02      0.03       338\n",
      "   happiness       0.35      0.35      0.35      1028\n",
      "        hate       0.48      0.16      0.24       268\n",
      "        love       0.50      0.37      0.42       762\n",
      "     neutral       0.34      0.57      0.42      1740\n",
      "      relief       0.33      0.04      0.07       352\n",
      "     sadness       0.32      0.26      0.29      1046\n",
      "    surprise       0.27      0.06      0.10       425\n",
      "       worry       0.33      0.46      0.38      1666\n",
      "\n",
      "    accuracy                           0.34      8000\n",
      "   macro avg       0.24      0.18      0.18      8000\n",
      "weighted avg       0.33      0.34      0.31      8000\n",
      "\n",
      "\n",
      "Accuracy по классам:\n",
      "Метка \t Accuracy\n",
      "anger \t 0.0\n",
      "boredom \t 0.0\n",
      "empty \t 0.006172839506172839\n",
      "enthusiasm \t 0.0\n",
      "fun \t 0.01775147928994083\n",
      "happiness \t 0.3472762645914397\n",
      "hate \t 0.16044776119402984\n",
      "love \t 0.3700787401574803\n",
      "neutral \t 0.5678160919540229\n",
      "relief \t 0.03977272727272727\n",
      "sadness \t 0.26003824091778205\n",
      "surprise \t 0.06352941176470588\n",
      "worry \t 0.4567827130852341\n"
     ]
    },
    {
     "name": "stderr",
     "output_type": "stream",
     "text": [
      "/Users/Iana/Desktop/2М/MMO/.venv/lib/python3.11/site-packages/sklearn/metrics/_classification.py:1565: UndefinedMetricWarning: Precision is ill-defined and being set to 0.0 in labels with no predicted samples. Use `zero_division` parameter to control this behavior.\n",
      "  _warn_prf(average, modifier, f\"{metric.capitalize()} is\", len(result))\n",
      "/Users/Iana/Desktop/2М/MMO/.venv/lib/python3.11/site-packages/sklearn/metrics/_classification.py:1565: UndefinedMetricWarning: Precision is ill-defined and being set to 0.0 in labels with no predicted samples. Use `zero_division` parameter to control this behavior.\n",
      "  _warn_prf(average, modifier, f\"{metric.capitalize()} is\", len(result))\n",
      "/Users/Iana/Desktop/2М/MMO/.venv/lib/python3.11/site-packages/sklearn/metrics/_classification.py:1565: UndefinedMetricWarning: Precision is ill-defined and being set to 0.0 in labels with no predicted samples. Use `zero_division` parameter to control this behavior.\n",
      "  _warn_prf(average, modifier, f\"{metric.capitalize()} is\", len(result))\n"
     ]
    }
   ],
   "source": [
    "# Вывод подробных метрик\n",
    "print(\"\\nОтчет по лучшей модели (LogisticRegression с TfidfVectorizer):\")\n",
    "print(classification_report(y_test, y_pred))\n",
    "print(\"\\nAccuracy по классам:\")\n",
    "print_accuracy_score_for_classes(y_test, y_pred)"
   ]
  },
  {
   "cell_type": "markdown",
   "id": "c1b6fba7",
   "metadata": {},
   "source": [
    "Лучшая комбинация — LogisticRegression с TfidfVectorizer"
   ]
  }
 ],
 "metadata": {
  "kernelspec": {
   "display_name": ".venv (3.11.12)",
   "language": "python",
   "name": "python3"
  },
  "language_info": {
   "codemirror_mode": {
    "name": "ipython",
    "version": 3
   },
   "file_extension": ".py",
   "mimetype": "text/x-python",
   "name": "python",
   "nbconvert_exporter": "python",
   "pygments_lexer": "ipython3",
   "version": "3.11.12"
  }
 },
 "nbformat": 4,
 "nbformat_minor": 5
}
